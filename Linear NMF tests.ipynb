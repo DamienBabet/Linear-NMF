{
 "metadata": {
  "celltoolbar": "Raw Cell Format",
  "name": "",
  "signature": "sha256:dbf63ee84be9482ebbaa2a24e6f766adb26b1c4e31713f1a06d6fc2f9d628542"
 },
 "nbformat": 3,
 "nbformat_minor": 0,
 "worksheets": [
  {
   "cells": [
    {
     "cell_type": "code",
     "collapsed": false,
     "input": [
      "import random\n",
      "import numpy as np\n",
      "import pandas as pd\n",
      "from scipy import sparse as sp\n",
      "from sklearn.preprocessing import normalize"
     ],
     "language": "python",
     "metadata": {},
     "outputs": [],
     "prompt_number": 55
    },
    {
     "cell_type": "markdown",
     "metadata": {},
     "source": [
      "We first introduce the few variables that will be used later on"
     ]
    },
    {
     "cell_type": "code",
     "collapsed": false,
     "input": [
      "f=1000 #number of features, lines\n",
      "n=1000 #number of examples, columns\n",
      "r=4 #number of latent features\n",
      "nbIter=2000 #iteration of the SGD algorithm\n",
      "gamma=0.05 #learning rate\n",
      "lambdaF=0.1 #normalization parameter for the feature factor matrix\n",
      "lambdaW=0.1 #normalization parameter for the weight factor matrix\n",
      "epsilon=0.1 #noise size parameter\n",
      "alpha=1 #signal size parameter"
     ],
     "language": "python",
     "metadata": {},
     "outputs": [],
     "prompt_number": 166
    },
    {
     "cell_type": "markdown",
     "metadata": {},
     "source": [
      "We generate the random matrices that are good candidates for NMF"
     ]
    },
    {
     "cell_type": "code",
     "collapsed": false,
     "input": [
      "# True row-normalized Factor matrix\n",
      "\n",
      "F_star=normalize(np.random.exponential(1,(f,r)),axis=1, norm='l1')\n",
      "W_star=normalize(np.random.exponential(1,(r,n)),axis=1, norm='l1')\n",
      "\n",
      "# Signal and noise parameters\n",
      "alpha=numpy.linalg.norm((W_star[1,] - W_star[0,]), ord=1)\n",
      "epsilon=(alpha*alpha)/(20+13*alpha)\n",
      "# epsilon=(alpha*alpha)/(8+4*alpha)\n",
      "print(alpha)\n",
      "print(epsilon)\n",
      "\n",
      "# Noise matrix\n",
      "DELTA=np.random.uniform(-(epsilon/n),(epsilon/n),(f,n))\n",
      "\n",
      "print(F_star)\n",
      "print(W_star)\n",
      "print(DELTA)\n",
      "\n",
      "# separable hypothesis\n",
      "Ir=eye(r,r)\n",
      "F2=np.concatenate((Ir,F_star[0:(f-r),]))\n",
      "PI=eye(f,f)\n",
      "np.random.shuffle(PI)\n",
      "F3=np.dot(PI,F2)\n",
      "print(F3)"
     ],
     "language": "python",
     "metadata": {},
     "outputs": [
      {
       "output_type": "stream",
       "stream": "stdout",
       "text": [
        "0.983553620051\n",
        "0.0295056398803\n",
        "[[ 0.13099176  0.20718551  0.33283604  0.32898669]\n",
        " [ 0.15813527  0.20315203  0.05134083  0.58737187]\n",
        " [ 0.02725525  0.43893457  0.29708695  0.23672323]\n",
        " ..., \n",
        " [ 0.75083135  0.23107217  0.01068135  0.00741513]\n",
        " [ 0.45498375  0.34546861  0.18752835  0.01201928]\n",
        " [ 0.17549925  0.20985342  0.22849058  0.38615674]]\n",
        "[[  1.75156413e-03   1.57777056e-04   1.21249797e-03 ...,   3.44564523e-04\n",
        "    9.75765975e-04   1.16273146e-04]\n",
        " [  2.70682762e-04   9.46429041e-04   9.06287261e-04 ...,   1.87545073e-04\n",
        "    4.68056330e-04   2.86382517e-04]\n",
        " [  1.06374951e-03   7.28324499e-05   4.37495472e-04 ...,   3.70323091e-04\n",
        "    7.69257917e-04   1.07324932e-03]\n",
        " [  1.82489060e-03   3.57864708e-04   2.83057947e-04 ...,   1.30327494e-03\n",
        "    1.88930669e-05   1.11935254e-04]]\n",
        "[[ -2.39245130e-05  -2.45293829e-06   1.95395573e-05 ...,   2.33766006e-05\n",
        "   -4.44983174e-06   1.35254571e-05]\n",
        " [ -1.62228242e-05  -2.07413957e-05  -2.46696505e-06 ...,   2.38298614e-05\n",
        "   -3.63307492e-06  -2.59141120e-05]\n",
        " [  1.84971421e-05  -1.69149071e-05   2.28503663e-06 ...,   1.91960680e-05\n",
        "   -9.40132008e-06   1.02848933e-05]\n",
        " ..., \n",
        " [ -2.79243070e-05   1.77276240e-05   5.63873866e-06 ...,   2.13792170e-05\n",
        "   -2.09596406e-05   1.31522468e-05]\n",
        " [  2.58781717e-05  -1.38048479e-05  -1.63151201e-05 ...,  -4.46605891e-07\n",
        "   -3.97612320e-06   2.03275702e-06]\n",
        " [ -9.52932707e-06  -1.34525525e-05  -2.37199817e-05 ...,  -2.65011482e-05\n",
        "    1.51825721e-05  -2.09079313e-05]]\n",
        "[[ 0.02596434  0.50464486  0.33329878  0.13609203]\n",
        " [ 0.13283972  0.07286859  0.59552109  0.1987706 ]\n",
        " [ 0.49527503  0.02404513  0.17464684  0.306033  ]\n",
        " ..., \n",
        " [ 0.52860356  0.33038303  0.0160938   0.12491961]\n",
        " [ 0.32089526  0.25797856  0.37773369  0.04339248]\n",
        " [ 0.06048392  0.20057451  0.55232904  0.18661253]]"
       ]
      },
      {
       "output_type": "stream",
       "stream": "stdout",
       "text": [
        "\n"
       ]
      }
     ],
     "prompt_number": 199
    },
    {
     "cell_type": "code",
     "collapsed": false,
     "input": [
      "# Exact NMF problem\n",
      "X1=np.dot(F_star,W_star)\n",
      "print(X1)\n",
      "\n",
      "# Noisy NMF problem\n",
      "X2=np.dot(F_star,W_star)+DELTA\n",
      "print(X2)\n",
      "\n",
      "# Separable NFM problem\n",
      "X3=np.dot(F3,W_star)\n",
      "print(X3)\n",
      "\n",
      "# Separable and noisy NMF problem\n",
      "X4=np.dot(F3,W_star)+DELTA\n",
      "print(X4)"
     ],
     "language": "python",
     "metadata": {},
     "outputs": [
      {
       "output_type": "stream",
       "stream": "stdout",
       "text": [
        "[[ 0.00123994  0.00035873  0.00058533 ...,  0.00063601  0.00048704\n",
        "   0.00046861]\n",
        " [ 0.00145848  0.00043116  0.00056457 ...,  0.00087711  0.00029998\n",
        "   0.00019742]\n",
        " [ 0.00091457  0.00052607  0.00062783 ...,  0.00051024  0.00046505\n",
        "   0.00047422]\n",
        " ..., \n",
        " [ 0.00140257  0.00034059  0.00112657 ...,  0.00031567  0.00084915\n",
        "   0.00016577]\n",
        " [ 0.00111186  0.00041671  0.00095021 ...,  0.00030667  0.00075014\n",
        "   0.00035445]\n",
        " [ 0.00131195  0.00038113  0.00061225 ...,  0.00068771  0.00045253\n",
        "   0.00036896]]\n",
        "[[ 0.00121602  0.00035627  0.00060487 ...,  0.00065939  0.00048259\n",
        "   0.00048213]\n",
        " [ 0.00144225  0.00041042  0.00056211 ...,  0.00090094  0.00029635\n",
        "   0.0001715 ]\n",
        " [ 0.00093307  0.00050916  0.00063011 ...,  0.00052944  0.00045565\n",
        "   0.0004845 ]\n",
        " ..., \n",
        " [ 0.00137465  0.00035832  0.00113221 ...,  0.00033705  0.00082819\n",
        "   0.00017892]\n",
        " [ 0.00113774  0.0004029   0.00093389 ...,  0.00030623  0.00074617\n",
        "   0.00035648]\n",
        " [ 0.00130242  0.00036768  0.00058853 ...,  0.00066121  0.00046772\n",
        "   0.00034805]]\n",
        "[[ 0.00078498  0.00055468  0.00067317 ...,  0.00040438  0.0005205\n",
        "   0.00052049]\n",
        " [ 0.00124862  0.00020443  0.00054391 ...,  0.00053903  0.00062559\n",
        "   0.00069771]\n",
        " [ 0.00161827  0.00022314  0.00078534 ...,  0.00063868  0.00063466\n",
        "   0.00028617]\n",
        " ..., \n",
        " [ 0.0012604   0.00044196  0.00098275 ...,  0.00041286  0.00068517\n",
        "   0.00018733]\n",
        " [ 0.0011129   0.00033783  0.00080043 ...,  0.00035539  0.00072526\n",
        "   0.00052145]\n",
        " [ 0.00108832  0.00030638  0.00054958 ...,  0.00050621  0.00058131\n",
        "   0.00067815]]"
       ]
      },
      {
       "output_type": "stream",
       "stream": "stdout",
       "text": [
        "\n",
        "[[ 0.00076105  0.00055223  0.00069271 ...,  0.00042776  0.00051605\n",
        "   0.00053401]\n",
        " [ 0.0012324   0.00018369  0.00054144 ...,  0.00056286  0.00062196\n",
        "   0.00067179]\n",
        " [ 0.00163677  0.00020622  0.00078763 ...,  0.00065788  0.00062526\n",
        "   0.00029645]\n",
        " ..., \n",
        " [ 0.00123247  0.00045969  0.00098839 ...,  0.00043424  0.00066421\n",
        "   0.00020049]\n",
        " [ 0.00113878  0.00032402  0.00078411 ...,  0.00035494  0.00072129\n",
        "   0.00052348]\n",
        " [ 0.00107879  0.00029293  0.00052586 ...,  0.0004797   0.00059649\n",
        "   0.00065724]]"
       ]
      },
      {
       "output_type": "stream",
       "stream": "stdout",
       "text": [
        "\n"
       ]
      }
     ],
     "prompt_number": 200
    },
    {
     "cell_type": "markdown",
     "metadata": {},
     "source": [
      "We now want to test various algorithms on our simulated data X1 to X4.\n",
      "We begin with a simple additive stochastic gradient descent (SGD) algorithm"
     ]
    },
    {
     "cell_type": "code",
     "collapsed": false,
     "input": [
      "# starting values\n",
      "F=np.random.uniform(0,3,(f,r))\n",
      "W=np.random.uniform(0,1,(r,n))\n",
      "print(F)\n",
      "print(W)"
     ],
     "language": "python",
     "metadata": {},
     "outputs": [
      {
       "output_type": "stream",
       "stream": "stdout",
       "text": [
        "[[ 2.07911706  0.52523089  2.47674358  1.83919401]\n",
        " [ 0.03032495  1.39794964  1.73774724  0.76643844]\n",
        " [ 1.6038249   2.00446308  0.89527769  0.06594582]\n",
        " ..., \n",
        " [ 1.41669751  1.1637545   1.11979995  2.58774419]\n",
        " [ 0.91173223  0.90165586  0.53286958  1.75099021]\n",
        " [ 1.67252865  0.83587156  0.53039125  0.71109347]]\n",
        "[[ 0.60196574  0.98909932  0.46175861 ...,  0.06371236  0.15736444\n",
        "   0.89305196]\n",
        " [ 0.70334723  0.94827816  0.36457219 ...,  0.23268372  0.06404745\n",
        "   0.17027732]\n",
        " [ 0.12409577  0.23560167  0.94589527 ...,  0.61828638  0.67263509\n",
        "   0.57829686]\n",
        " [ 0.25438909  0.95864929  0.92505616 ...,  0.34430573  0.74272492\n",
        "   0.98442472]]\n"
       ]
      }
     ],
     "prompt_number": 201
    },
    {
     "cell_type": "code",
     "collapsed": false,
     "input": [
      "def additiveSGD(F,W,X,nbIter=2000,gamma=0.05,lambdaF=0.1,lambdaW=0.1):\n",
      "    for k in range(nbIter):\n",
      "        i = randint(0,X.shape[0])\n",
      "        j = randint(0,X.shape[1])\n",
      "        Xij = X[i,j]\n",
      "        FWij = 0\n",
      "        for t in range(r):\n",
      "            FWij += F[i,t] * W[t,j]\n",
      "        err = Xij - FWij\n",
      "        for t in range(r):\n",
      "            F_temp = gamma * err * W[t,j] - gamma * lambdaF * F[i,t]\n",
      "            W_temp = gamma * err * F[i,t] - gamma * lambdaW * W[t,j]\n",
      "            if (W[t,j] + W_temp) > 0:\n",
      "                W[t,j] += W_temp\n",
      "            if (F[i,t] + F_temp) > 0:\n",
      "                F[i,t] += F_temp\n",
      "    return (F,W)"
     ],
     "language": "python",
     "metadata": {},
     "outputs": [],
     "prompt_number": 143
    },
    {
     "cell_type": "code",
     "collapsed": false,
     "input": [
      "error=numpy.linalg.norm((X1 - np.dot(F,W)), ord=2)\n",
      "print(error)\n",
      "\n",
      "(F,W)=additiveSGD(F,W,X1,nbIter=10000)\n",
      "\n",
      "error=numpy.linalg.norm((X1 - np.dot(F,W)), ord=2)\n",
      "print(error)"
     ],
     "language": "python",
     "metadata": {},
     "outputs": [
      {
       "output_type": "stream",
       "stream": "stdout",
       "text": [
        "0.325019563725\n",
        "0.328328140219"
       ]
      },
      {
       "output_type": "stream",
       "stream": "stdout",
       "text": [
        "\n"
       ]
      }
     ],
     "prompt_number": 211
    },
    {
     "cell_type": "code",
     "collapsed": false,
     "input": [
      "print(W[:5,0])\n",
      "print(W_star[:5,0])"
     ],
     "language": "python",
     "metadata": {},
     "outputs": [
      {
       "output_type": "stream",
       "stream": "stdout",
       "text": [
        "[ 0.00025661  0.00047819  0.00017268  0.00035507]\n",
        "[ 0.00175156  0.00027068  0.00106375  0.00182489]\n"
       ]
      }
     ],
     "prompt_number": 213
    },
    {
     "cell_type": "code",
     "collapsed": false,
     "input": [],
     "language": "python",
     "metadata": {},
     "outputs": []
    }
   ],
   "metadata": {}
  }
 ]
}